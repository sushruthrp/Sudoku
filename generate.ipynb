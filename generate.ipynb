{
 "cells": [
  {
   "cell_type": "code",
   "execution_count": 2,
   "metadata": {},
   "outputs": [
    {
     "name": "stdout",
     "output_type": "stream",
     "text": [
      "Populating the interactive namespace from numpy and matplotlib\n"
     ]
    }
   ],
   "source": [
    "# %load imports_default.py\n",
    "#!/usr/bin/env python\n",
    "\n",
    "# In[ ]:\n",
    "\n",
    "\n",
    "import numpy as np\n",
    "import math\n",
    "import random as rn\n",
    "import matplotlib.pyplot as plt\n",
    "import matplotlib as mpl\n",
    "import pandas as pd\n",
    "import json\n",
    "get_ipython().run_line_magic('matplotlib', 'inline')\n",
    "get_ipython().run_line_magic('pylab', 'inline')\n",
    "get_ipython().run_line_magic('config', \"InlineBackend.figure_format = 'svg'\")\n",
    "\n"
   ]
  },
  {
   "cell_type": "code",
   "execution_count": 3,
   "metadata": {},
   "outputs": [],
   "source": [
    "start = [\n",
    "    [1,2,3,4,5,6,7,8,9],\n",
    "    [4,5,6,7,8,9,1,2,3],\n",
    "    [7,8,9,1,2,3,4,5,6],\n",
    "    [2,3,1,5,6,4,8,9,7],\n",
    "    [5,6,4,8,9,7,2,3,1],\n",
    "    [8,9,7,2,3,1,5,6,4],\n",
    "    [3,1,2,6,4,5,9,7,8],\n",
    "    [6,4,5,9,7,8,3,1,2],\n",
    "    [9,7,8,3,1,2,6,4,5]\n",
    "]\n",
    "def col_change(b, col1, col2):\n",
    "    for i in range(len(b)):\n",
    "        buff = b[i][col1]\n",
    "        b[i][col1] = b[i][col2]\n",
    "        b[i][col2] = buff\n",
    "    return b\n",
    "\n",
    "\n",
    "\n",
    "import copy\n",
    "def shuffle_board(seed):\n",
    "    random.seed()\n",
    "    row_shuffle = randint(1,100)\n",
    "    col_shuffle = randint(1,100)\n",
    "    for i in range(row_shuffle):\n",
    "        roll= randint(0,3)\n",
    "        changes = rn.sample(range(3), 2)\n",
    "        buff = seed[roll*3 + changes[0]]\n",
    "        seed[roll*3 + changes[0]] = seed[roll*3 + changes[1]]\n",
    "        seed[roll*3 + changes[1]] = buff\n",
    "    for i in range(col_shuffle):\n",
    "        roll = randint(0,3)\n",
    "        changes = rn.sample(range(3), 2)\n",
    "        seed = col_change(seed, roll*3+ changes[0], roll*3+changes[1])\n",
    "    return seed\n",
    "def slots(s):\n",
    "    if s=='easy':\n",
    "        return (81-28)\n",
    "    elif s =='medium':\n",
    "        return (81-26)\n",
    "    elif s =='hard':\n",
    "        return (81-23)\n",
    "    elif s=='v_hard':\n",
    "        return (81-20)\n",
    "def generate(seed,lvl):\n",
    "    \"\"\" With levels 'easy' 'medium', 'hard', 'v_hard' levels.\"\"\"\n",
    "    seed = shuffle_board(seed)\n",
    "    num = slots(lvl)\n",
    "    a = rn.sample(range(0,9),9)\n",
    "    b = rn.sample(range(0,9),9)\n",
    "    removals = rn.sample([(x,y) for x in a for y in b],num)\n",
    "    seed1 = copy.deepcopy(seed)\n",
    "    for i in range(num):\n",
    "#        print(removals[i])\n",
    "        seed1[removals[i][0]][removals[i][1]] = 0\n",
    "    return seed1, seed\n",
    "        \n"
   ]
  }
 ],
 "metadata": {
  "kernelspec": {
   "display_name": "Python 3",
   "language": "python",
   "name": "python3"
  },
  "language_info": {
   "codemirror_mode": {
    "name": "ipython",
    "version": 3
   },
   "file_extension": ".py",
   "mimetype": "text/x-python",
   "name": "python",
   "nbconvert_exporter": "python",
   "pygments_lexer": "ipython3",
   "version": "3.7.1"
  }
 },
 "nbformat": 4,
 "nbformat_minor": 2
}
