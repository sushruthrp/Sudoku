{
 "cells": [
  {
   "cell_type": "code",
   "execution_count": 281,
   "metadata": {},
   "outputs": [
    {
     "name": "stdout",
     "output_type": "stream",
     "text": [
      "Populating the interactive namespace from numpy and matplotlib\n"
     ]
    },
    {
     "name": "stderr",
     "output_type": "stream",
     "text": [
      "C:\\ProgramData\\Anaconda3\\lib\\site-packages\\IPython\\core\\magics\\pylab.py:160: UserWarning: pylab import has clobbered these variables: ['copy']\n",
      "`%matplotlib` prevents importing * from pylab and numpy\n",
      "  \"\\n`%matplotlib` prevents importing * from pylab and numpy\"\n"
     ]
    }
   ],
   "source": [
    "# %load imports_default.py\n",
    "#!/usr/bin/env python\n",
    "\n",
    "# In[ ]:\n",
    "\n",
    "\n",
    "import numpy as np\n",
    "import math\n",
    "import random as rn\n",
    "import matplotlib.pyplot as plt\n",
    "import matplotlib as mpl\n",
    "import pandas as pd\n",
    "import json\n",
    "get_ipython().run_line_magic('matplotlib', 'inline')\n",
    "get_ipython().run_line_magic('pylab', 'inline')\n",
    "get_ipython().run_line_magic('config', \"InlineBackend.figure_format = 'svg'\")\n",
    "\n"
   ]
  },
  {
   "cell_type": "code",
   "execution_count": 282,
   "metadata": {},
   "outputs": [],
   "source": [
    "board = [\n",
    "    [0,0,6,0,0,9,2,4,0],\n",
    "    [0,0,0,0,0,0,0,0,0],\n",
    "    [0,5,0,1,2,0,0,7,0],\n",
    "    [0,0,4,0,3,2,0,6,0],\n",
    "    [0,0,5,0,0,0,3,0,0],\n",
    "    [0,7,0,4,5,0,9,0,0],\n",
    "    [0,9,0,0,6,8,0,1,0],\n",
    "    [0,0,0,0,0,0,0,0,0],\n",
    "    [0,6,7,2,0,0,8,0,0]\n",
    "]\n",
    "hard = [\n",
    "    [8,0,0,0,0,0,0,0,0],\n",
    "    [0,0,3,6,0,0,0,0,0],\n",
    "    [0,7,0,0,9,0,2,0,0],\n",
    "    [0,5,0,0,0,7,0,0,0],\n",
    "    [0,0,0,0,4,5,7,0,0],\n",
    "    [0,0,0,1,0,0,0,3,0],\n",
    "    [0,0,1,0,0,0,0,6,8],\n",
    "    [0,0,8,5,0,0,0,1,0],\n",
    "    [0,9,0,0,0,0,4,0,0]\n",
    "]\n",
    "def print_board(b):\n",
    "    \n",
    "    for i in range(len(b)):\n",
    "        if i%3 ==0 and i!=0:\n",
    "            print('- - - - - - - - - - - - - -')\n",
    "        for j in range(len(b[0])):\n",
    "            if j%3==0 and j!=0:\n",
    "                print('  |  ', end = '')\n",
    "            if j==8:\n",
    "                print(str(b[i][j]))\n",
    "            else:\n",
    "                print(str(b[i][j])+ ' ', end='')\n",
    "#print_board(hard)\n",
    "                    "
   ]
  },
  {
   "cell_type": "code",
   "execution_count": 283,
   "metadata": {},
   "outputs": [
    {
     "name": "stdout",
     "output_type": "stream",
     "text": [
      "True\n"
     ]
    }
   ],
   "source": [
    "def find_empty(b):\n",
    "    for i in range(len(b)):\n",
    "        for j in range(len(b[0])):\n",
    "            if b[i][j] == 0:\n",
    "                return (i, j)\n",
    "    return False\n",
    "\n",
    "            \n",
    "def is_valid(b, n, pos):\n",
    "    # Check row\n",
    "    for i in range(len(b[0])):\n",
    "        if b[pos[0]][i]==n and i!= pos[1]:\n",
    "            return False\n",
    "        \n",
    "    #check column    \n",
    "    for i in range(len(b)):\n",
    "        if b[i][pos[1]] == n and i!=pos[0]:\n",
    "            return False\n",
    "        \n",
    "        \n",
    "    # Check square\n",
    "    row = pos[0]//3\n",
    "    col = pos[1]//3\n",
    "    for i in range(row*3, row*3 +3):\n",
    "        for j in range(col*3, col*3+3):\n",
    "            if b[i][j] == n and i!=pos[0] and j!= pos[1]:\n",
    "                return False\n",
    "    return True\n",
    "\n",
    "\n",
    "\n",
    "\n",
    "def solve(b):\n",
    "\n",
    "    slot = find_empty(b)\n",
    "    if not slot:\n",
    "        return True\n",
    "    else:\n",
    "        row , col = slot\n",
    "    for i in range(1,10):\n",
    "        if is_valid(b, i, (row,col)):\n",
    "            b[row][col]=i\n",
    "\n",
    "            if solve(b):\n",
    "                return True\n",
    "            b[row][col] = 0\n",
    "    return False\n",
    "\n",
    "\n",
    "\n",
    "print(solve(hard))\n"
   ]
  }
 ],
 "metadata": {
  "kernelspec": {
   "display_name": "Python 3",
   "language": "python",
   "name": "python3"
  },
  "language_info": {
   "codemirror_mode": {
    "name": "ipython",
    "version": 3
   },
   "file_extension": ".py",
   "mimetype": "text/x-python",
   "name": "python",
   "nbconvert_exporter": "python",
   "pygments_lexer": "ipython3",
   "version": "3.7.1"
  }
 },
 "nbformat": 4,
 "nbformat_minor": 2
}
